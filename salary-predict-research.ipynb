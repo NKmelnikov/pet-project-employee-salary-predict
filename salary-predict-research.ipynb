{
 "cells": [
  {
   "cell_type": "code",
   "execution_count": 15,
   "metadata": {
    "collapsed": true
   },
   "outputs": [],
   "source": [
    "from datetime import datetime\n",
    "import math\n",
    "import pandas as pd\n",
    "from sklearn.preprocessing import LabelEncoder\n",
    "from sklearn.linear_model import LinearRegression, SGDRegressor\n",
    "from sklearn.metrics import mean_squared_error\n",
    "from sklearn.svm import SVR\n",
    "import xgboost as xg\n",
    "\n",
    "from sklearn.ensemble import GradientBoostingRegressor\n",
    "\n",
    "from sklearn.model_selection import KFold, cross_val_score, train_test_split\n",
    "from sklearn.preprocessing import StandardScaler"
   ]
  },
  {
   "cell_type": "code",
   "execution_count": 16,
   "outputs": [
    {
     "name": "stdout",
     "output_type": "stream",
     "text": [
      "name         13811\n",
      "jobtitle     13811\n",
      "deptid       13811\n",
      "descr        13811\n",
      "hire_dt      13807\n",
      "annual_rt    13811\n",
      "gross        13158\n",
      "dtype: int64\n"
     ]
    }
   ],
   "source": [
    "df = pd.read_csv('baltimore-city-employee-salaries-fy2019.csv')\n",
    "df.columns= df.columns.str.lower()\n",
    "print(df.count())\n",
    "\n",
    "# Заменим пропуски на среднее значение по колонкам gross и hire_dt\n",
    "# Replacing the gaps with the mean value across the gross and hire_dt columns\n",
    "\n",
    "gross_mean = df.loc[:, 'gross'].mean()\n",
    "df['gross'] = df['gross'].replace([0.0, 1.0], gross_mean)\n",
    "df.loc[:, 'gross'].fillna(gross_mean, inplace=True)\n",
    "df.loc[:, 'hire_dt'].fillna(datetime(2020, 1, 1), inplace=True)"
   ],
   "metadata": {
    "collapsed": false,
    "pycharm": {
     "name": "#%%\n"
    }
   }
  },
  {
   "cell_type": "code",
   "execution_count": 17,
   "outputs": [
    {
     "data": {
      "text/plain": "               gross\ncount    1010.000000\nmean    64405.285903\nstd     28810.104689\nmin      1461.540000\n25%     45836.290833\n50%     60914.598636\n75%     77901.222500\nmax    238772.040000",
      "text/html": "<div>\n<style scoped>\n    .dataframe tbody tr th:only-of-type {\n        vertical-align: middle;\n    }\n\n    .dataframe tbody tr th {\n        vertical-align: top;\n    }\n\n    .dataframe thead th {\n        text-align: right;\n    }\n</style>\n<table border=\"1\" class=\"dataframe\">\n  <thead>\n    <tr style=\"text-align: right;\">\n      <th></th>\n      <th>gross</th>\n    </tr>\n  </thead>\n  <tbody>\n    <tr>\n      <th>count</th>\n      <td>1010.000000</td>\n    </tr>\n    <tr>\n      <th>mean</th>\n      <td>64405.285903</td>\n    </tr>\n    <tr>\n      <th>std</th>\n      <td>28810.104689</td>\n    </tr>\n    <tr>\n      <th>min</th>\n      <td>1461.540000</td>\n    </tr>\n    <tr>\n      <th>25%</th>\n      <td>45836.290833</td>\n    </tr>\n    <tr>\n      <th>50%</th>\n      <td>60914.598636</td>\n    </tr>\n    <tr>\n      <th>75%</th>\n      <td>77901.222500</td>\n    </tr>\n    <tr>\n      <th>max</th>\n      <td>238772.040000</td>\n    </tr>\n  </tbody>\n</table>\n</div>"
     },
     "execution_count": 17,
     "metadata": {},
     "output_type": "execute_result"
    }
   ],
   "source": [
    "# Выясним список всех профессий участвующих в выборке и их средний заработок\n",
    "# Let's find out the list of all professions participating in the sample and their average earnings\n",
    "\n",
    "df_jobtitle = df[['jobtitle', 'gross']]\n",
    "df_jobtitle = df_jobtitle.groupby('jobtitle', as_index=False).mean()\n",
    "df_jobtitle.describe()\n",
    "\n",
    "# Видим, что их 1010 уникальных наименований\n",
    "# We see that there are 1010 unique items\n"
   ],
   "metadata": {
    "collapsed": false,
    "pycharm": {
     "name": "#%%\n"
    }
   }
  },
  {
   "cell_type": "code",
   "execution_count": 18,
   "outputs": [
    {
     "name": "stdout",
     "output_type": "stream",
     "text": [
      "Самая низкая средняя зарплата у специалистов: Office Assistant\n",
      " она составляет: 1461.54\n",
      "Самая высокая средняя зарплата у специалистов: State's Attorney\n",
      " она составляет: 238772.04\n"
     ]
    }
   ],
   "source": [
    "df_jobtitle.sort_values(by=['gross'], inplace=True)\n",
    "# lowest income is:\n",
    "print(f\"Самая низкая средняя зарплата у специалистов: {df_jobtitle.iloc[0]['jobtitle']}\\n она составляет: {df_jobtitle.iloc[0]['gross']:.2f}\")\n",
    "# highest income is:\n",
    "print(f\"Самая высокая средняя зарплата у специалистов: {df_jobtitle.iloc[-1]['jobtitle']}\\n она составляет: {df_jobtitle.iloc[-1]['gross']:.2f}\")\n"
   ],
   "metadata": {
    "collapsed": false,
    "pycharm": {
     "name": "#%%\n"
    }
   }
  },
  {
   "cell_type": "code",
   "execution_count": 19,
   "outputs": [
    {
     "data": {
      "text/plain": "array([[<AxesSubplot:title={'center':'gross'}>]], dtype=object)"
     },
     "execution_count": 19,
     "metadata": {},
     "output_type": "execute_result"
    },
    {
     "data": {
      "text/plain": "<Figure size 432x288 with 1 Axes>",
      "image/png": "[encoded data removed]"
     },
     "metadata": {
      "needs_background": "light"
     },
     "output_type": "display_data"
    }
   ],
   "source": [
    "# Гистограмма распределения уровня зарплат по частоте\n",
    "# Histogram of the distribution of wages by frequency\n",
    "\n",
    "df_jobtitle.hist(column='gross', bins=50)"
   ],
   "metadata": {
    "collapsed": false,
    "pycharm": {
     "name": "#%%\n"
    }
   }
  },
  {
   "cell_type": "code",
   "execution_count": 20,
   "outputs": [
    {
     "data": {
      "text/plain": "                    name                       jobtitle  deptid  \\\n0         Aaron,Kareem D        Utilities Inst Repair I  A50550   \n1       Aaron,Patricia G  Facilities/Office Services II  A03031   \n2          Abadir,Adam O             Council Technician  A02002   \n3  Abaku,Aigbolosimuan O                 Police Officer  A99094   \n4          Abbeduto,Mack     Assistant State's Attorney  A29011   \n\n                           descr    hire_dt  annual_rt     gross  work_exp  \n0  DPW-Water & Waste Water (550) 2018-08-27    32470.0  25743.94       492  \n1       OED-Employment Dev (031) 1979-10-24    60200.0  57806.13     14679  \n2             City Council (002) 2016-12-12    64823.0  64774.11      1115  \n3        Police Department (094) 2018-04-17    53640.0  59361.55       624  \n4  States Attorneys Office (011) 2017-05-22    68562.0  61693.59       954  ",
      "text/html": "<div>\n<style scoped>\n    .dataframe tbody tr th:only-of-type {\n        vertical-align: middle;\n    }\n\n    .dataframe tbody tr th {\n        vertical-align: top;\n    }\n\n    .dataframe thead th {\n        text-align: right;\n    }\n</style>\n<table border=\"1\" class=\"dataframe\">\n  <thead>\n    <tr style=\"text-align: right;\">\n      <th></th>\n      <th>name</th>\n      <th>jobtitle</th>\n      <th>deptid</th>\n      <th>descr</th>\n      <th>hire_dt</th>\n      <th>annual_rt</th>\n      <th>gross</th>\n      <th>work_exp</th>\n    </tr>\n  </thead>\n  <tbody>\n    <tr>\n      <th>0</th>\n      <td>Aaron,Kareem D</td>\n      <td>Utilities Inst Repair I</td>\n      <td>A50550</td>\n      <td>DPW-Water &amp; Waste Water (550)</td>\n      <td>2018-08-27</td>\n      <td>32470.0</td>\n      <td>25743.94</td>\n      <td>492</td>\n    </tr>\n    <tr>\n      <th>1</th>\n      <td>Aaron,Patricia G</td>\n      <td>Facilities/Office Services II</td>\n      <td>A03031</td>\n      <td>OED-Employment Dev (031)</td>\n      <td>1979-10-24</td>\n      <td>60200.0</td>\n      <td>57806.13</td>\n      <td>14679</td>\n    </tr>\n    <tr>\n      <th>2</th>\n      <td>Abadir,Adam O</td>\n      <td>Council Technician</td>\n      <td>A02002</td>\n      <td>City Council (002)</td>\n      <td>2016-12-12</td>\n      <td>64823.0</td>\n      <td>64774.11</td>\n      <td>1115</td>\n    </tr>\n    <tr>\n      <th>3</th>\n      <td>Abaku,Aigbolosimuan O</td>\n      <td>Police Officer</td>\n      <td>A99094</td>\n      <td>Police Department (094)</td>\n      <td>2018-04-17</td>\n      <td>53640.0</td>\n      <td>59361.55</td>\n      <td>624</td>\n    </tr>\n    <tr>\n      <th>4</th>\n      <td>Abbeduto,Mack</td>\n      <td>Assistant State's Attorney</td>\n      <td>A29011</td>\n      <td>States Attorneys Office (011)</td>\n      <td>2017-05-22</td>\n      <td>68562.0</td>\n      <td>61693.59</td>\n      <td>954</td>\n    </tr>\n  </tbody>\n</table>\n</div>"
     },
     "execution_count": 20,
     "metadata": {},
     "output_type": "execute_result"
    }
   ],
   "source": [
    "# Конвертируем колонку даты приёма на работу в стаж работы (в днях)\n",
    "# Converting the column of hire_date into work experience (in days)\n",
    "\n",
    "convert_point = datetime(2020, 1, 1)\n",
    "df['hire_dt'] = pd.to_datetime(df['hire_dt'])\n",
    "work_experience = convert_point - df['hire_dt']\n",
    "df['work_exp'] = work_experience.dt.days\n",
    "df.head()\n"
   ],
   "metadata": {
    "collapsed": false,
    "pycharm": {
     "name": "#%%\n"
    }
   }
  },
  {
   "cell_type": "code",
   "execution_count": 21,
   "outputs": [
    {
     "data": {
      "text/plain": "                    name                       jobtitle deptid  \\\n0         Aaron,Kareem D        Utilities Inst Repair I    A50   \n1       Aaron,Patricia G  Facilities/Office Services II    A03   \n2          Abadir,Adam O             Council Technician    A02   \n3  Abaku,Aigbolosimuan O                 Police Officer    A99   \n4          Abbeduto,Mack     Assistant State's Attorney    A29   \n\n                           descr    hire_dt  annual_rt     gross  work_exp  \n0  DPW-Water & Waste Water (550) 2018-08-27    32470.0  25743.94       492  \n1       OED-Employment Dev (031) 1979-10-24    60200.0  57806.13     14679  \n2             City Council (002) 2016-12-12    64823.0  64774.11      1115  \n3        Police Department (094) 2018-04-17    53640.0  59361.55       624  \n4  States Attorneys Office (011) 2017-05-22    68562.0  61693.59       954  ",
      "text/html": "<div>\n<style scoped>\n    .dataframe tbody tr th:only-of-type {\n        vertical-align: middle;\n    }\n\n    .dataframe tbody tr th {\n        vertical-align: top;\n    }\n\n    .dataframe thead th {\n        text-align: right;\n    }\n</style>\n<table border=\"1\" class=\"dataframe\">\n  <thead>\n    <tr style=\"text-align: right;\">\n      <th></th>\n      <th>name</th>\n      <th>jobtitle</th>\n      <th>deptid</th>\n      <th>descr</th>\n      <th>hire_dt</th>\n      <th>annual_rt</th>\n      <th>gross</th>\n      <th>work_exp</th>\n    </tr>\n  </thead>\n  <tbody>\n    <tr>\n      <th>0</th>\n      <td>Aaron,Kareem D</td>\n      <td>Utilities Inst Repair I</td>\n      <td>A50</td>\n      <td>DPW-Water &amp; Waste Water (550)</td>\n      <td>2018-08-27</td>\n      <td>32470.0</td>\n      <td>25743.94</td>\n      <td>492</td>\n    </tr>\n    <tr>\n      <th>1</th>\n      <td>Aaron,Patricia G</td>\n      <td>Facilities/Office Services II</td>\n      <td>A03</td>\n      <td>OED-Employment Dev (031)</td>\n      <td>1979-10-24</td>\n      <td>60200.0</td>\n      <td>57806.13</td>\n      <td>14679</td>\n    </tr>\n    <tr>\n      <th>2</th>\n      <td>Abadir,Adam O</td>\n      <td>Council Technician</td>\n      <td>A02</td>\n      <td>City Council (002)</td>\n      <td>2016-12-12</td>\n      <td>64823.0</td>\n      <td>64774.11</td>\n      <td>1115</td>\n    </tr>\n    <tr>\n      <th>3</th>\n      <td>Abaku,Aigbolosimuan O</td>\n      <td>Police Officer</td>\n      <td>A99</td>\n      <td>Police Department (094)</td>\n      <td>2018-04-17</td>\n      <td>53640.0</td>\n      <td>59361.55</td>\n      <td>624</td>\n    </tr>\n    <tr>\n      <th>4</th>\n      <td>Abbeduto,Mack</td>\n      <td>Assistant State's Attorney</td>\n      <td>A29</td>\n      <td>States Attorneys Office (011)</td>\n      <td>2017-05-22</td>\n      <td>68562.0</td>\n      <td>61693.59</td>\n      <td>954</td>\n    </tr>\n  </tbody>\n</table>\n</div>"
     },
     "execution_count": 21,
     "metadata": {},
     "output_type": "execute_result"
    }
   ],
   "source": [
    "# Обработаем категориальный признак deptid\n",
    "# Можем заметить, что первые 3 символа - это id департамента, последние - уникальный id сотрудника ( он дублируется в колонке descr )\n",
    "# Оставим только принадлежность к департаменту\n",
    "\n",
    "# Let`s process categorical attribute deptid\n",
    "# We can see that the first 3 characters are the department id, the last are the unique id of the employee (it is duplicated in the descr column)\n",
    "# We will leave the one only belonging to the department\n",
    "\n",
    "df['deptid'] = df['deptid'].str[:3]\n",
    "df.head()"
   ],
   "metadata": {
    "collapsed": false,
    "pycharm": {
     "name": "#%%\n"
    }
   }
  },
  {
   "cell_type": "code",
   "execution_count": 22,
   "outputs": [
    {
     "data": {
      "text/plain": "                    name  jobtitle  deptid                          descr  \\\n0         Aaron,Kareem D       952      30  DPW-Water & Waste Water (550)   \n1       Aaron,Patricia G       353       2       OED-Employment Dev (031)   \n2          Abadir,Adam O       234       1             City Council (002)   \n3  Abaku,Aigbolosimuan O       717      48        Police Department (094)   \n4          Abbeduto,Mack        56      17  States Attorneys Office (011)   \n\n     hire_dt  annual_rt     gross  work_exp  \n0 2018-08-27    32470.0  25743.94       492  \n1 1979-10-24    60200.0  57806.13     14679  \n2 2016-12-12    64823.0  64774.11      1115  \n3 2018-04-17    53640.0  59361.55       624  \n4 2017-05-22    68562.0  61693.59       954  ",
      "text/html": "<div>\n<style scoped>\n    .dataframe tbody tr th:only-of-type {\n        vertical-align: middle;\n    }\n\n    .dataframe tbody tr th {\n        vertical-align: top;\n    }\n\n    .dataframe thead th {\n        text-align: right;\n    }\n</style>\n<table border=\"1\" class=\"dataframe\">\n  <thead>\n    <tr style=\"text-align: right;\">\n      <th></th>\n      <th>name</th>\n      <th>jobtitle</th>\n      <th>deptid</th>\n      <th>descr</th>\n      <th>hire_dt</th>\n      <th>annual_rt</th>\n      <th>gross</th>\n      <th>work_exp</th>\n    </tr>\n  </thead>\n  <tbody>\n    <tr>\n      <th>0</th>\n      <td>Aaron,Kareem D</td>\n      <td>952</td>\n      <td>30</td>\n      <td>DPW-Water &amp; Waste Water (550)</td>\n      <td>2018-08-27</td>\n      <td>32470.0</td>\n      <td>25743.94</td>\n      <td>492</td>\n    </tr>\n    <tr>\n      <th>1</th>\n      <td>Aaron,Patricia G</td>\n      <td>353</td>\n      <td>2</td>\n      <td>OED-Employment Dev (031)</td>\n      <td>1979-10-24</td>\n      <td>60200.0</td>\n      <td>57806.13</td>\n      <td>14679</td>\n    </tr>\n    <tr>\n      <th>2</th>\n      <td>Abadir,Adam O</td>\n      <td>234</td>\n      <td>1</td>\n      <td>City Council (002)</td>\n      <td>2016-12-12</td>\n      <td>64823.0</td>\n      <td>64774.11</td>\n      <td>1115</td>\n    </tr>\n    <tr>\n      <th>3</th>\n      <td>Abaku,Aigbolosimuan O</td>\n      <td>717</td>\n      <td>48</td>\n      <td>Police Department (094)</td>\n      <td>2018-04-17</td>\n      <td>53640.0</td>\n      <td>59361.55</td>\n      <td>624</td>\n    </tr>\n    <tr>\n      <th>4</th>\n      <td>Abbeduto,Mack</td>\n      <td>56</td>\n      <td>17</td>\n      <td>States Attorneys Office (011)</td>\n      <td>2017-05-22</td>\n      <td>68562.0</td>\n      <td>61693.59</td>\n      <td>954</td>\n    </tr>\n  </tbody>\n</table>\n</div>"
     },
     "execution_count": 22,
     "metadata": {},
     "output_type": "execute_result"
    }
   ],
   "source": [
    "# Поскольку категориальных признаков очень много, рациональнее использовать Label Encoding\n",
    "# Since there are a lot of categorical features, it is more rational to use Label Encoding\n",
    "\n",
    "le = LabelEncoder()\n",
    "\n",
    "df['deptid'] = le.fit_transform(df['deptid'])\n",
    "df['jobtitle'] = le.fit_transform(df['jobtitle'])\n",
    "\n",
    "df.head()\n"
   ],
   "metadata": {
    "collapsed": false,
    "pycharm": {
     "name": "#%%\n"
    }
   }
  },
  {
   "cell_type": "code",
   "execution_count": 23,
   "outputs": [
    {
     "data": {
      "text/plain": "       jobtitle    deptid  annual_rt  work_exp\n13361  0.407787  0.985454  -0.324811  1.114178\n9113  -0.041309  0.503432   0.322711  2.564759\n12472  0.992385 -2.113260  -0.954733 -0.238132\n10066  0.454245  0.227990  -0.471246 -0.768171\n8870  -1.179534 -1.011495   0.162538 -0.214661",
      "text/html": "<div>\n<style scoped>\n    .dataframe tbody tr th:only-of-type {\n        vertical-align: middle;\n    }\n\n    .dataframe tbody tr th {\n        vertical-align: top;\n    }\n\n    .dataframe thead th {\n        text-align: right;\n    }\n</style>\n<table border=\"1\" class=\"dataframe\">\n  <thead>\n    <tr style=\"text-align: right;\">\n      <th></th>\n      <th>jobtitle</th>\n      <th>deptid</th>\n      <th>annual_rt</th>\n      <th>work_exp</th>\n    </tr>\n  </thead>\n  <tbody>\n    <tr>\n      <th>13361</th>\n      <td>0.407787</td>\n      <td>0.985454</td>\n      <td>-0.324811</td>\n      <td>1.114178</td>\n    </tr>\n    <tr>\n      <th>9113</th>\n      <td>-0.041309</td>\n      <td>0.503432</td>\n      <td>0.322711</td>\n      <td>2.564759</td>\n    </tr>\n    <tr>\n      <th>12472</th>\n      <td>0.992385</td>\n      <td>-2.113260</td>\n      <td>-0.954733</td>\n      <td>-0.238132</td>\n    </tr>\n    <tr>\n      <th>10066</th>\n      <td>0.454245</td>\n      <td>0.227990</td>\n      <td>-0.471246</td>\n      <td>-0.768171</td>\n    </tr>\n    <tr>\n      <th>8870</th>\n      <td>-1.179534</td>\n      <td>-1.011495</td>\n      <td>0.162538</td>\n      <td>-0.214661</td>\n    </tr>\n  </tbody>\n</table>\n</div>"
     },
     "execution_count": 23,
     "metadata": {},
     "output_type": "execute_result"
    }
   ],
   "source": [
    "# Формируем вектор Х и y\n",
    "# Let`s create vector X and y\n",
    "X = df[['jobtitle', 'deptid', 'annual_rt', 'work_exp']]\n",
    "X.reset_index()\n",
    "scaler = StandardScaler()\n",
    "X = pd.DataFrame(scaler.fit_transform(X), index=X.index, columns=X.columns)\n",
    "\n",
    "# Разделим вектор на 100000, чтобы получить адекватное значение среднеквадратичной ошибки\n",
    "# Dividing vector y by 100000 to get an adequate mean square error\n",
    "y = df.loc[:, 'gross'].map(lambda x: x/100000)\n",
    "X_train, X_test, y_train, y_test = train_test_split(X, y, test_size=0.2, random_state=42)\n",
    "X_train.head()"
   ],
   "metadata": {
    "collapsed": false,
    "pycharm": {
     "name": "#%%\n"
    }
   }
  },
  {
   "cell_type": "markdown",
   "source": [
    "### Подберём модель\n",
    "### Let's start the selection of the model"
   ],
   "metadata": {
    "collapsed": false,
    "pycharm": {
     "name": "#%% md\n"
    }
   }
  },
  {
   "cell_type": "code",
   "execution_count": 24,
   "outputs": [
    {
     "name": "stdout",
     "output_type": "stream",
     "text": [
      "coefficient of determination: 0.6822029500267149\n",
      "Slope: 0.02\n",
      "Intercept: 0.63\n",
      "mse_test: 0.041\n"
     ]
    }
   ],
   "source": [
    "regressor_l = LinearRegression(n_jobs=-1)\n",
    "regressor_l.fit(X_train, y_train)\n",
    "\n",
    "y_pred_test = regressor_l.predict(X_test)\n",
    "\n",
    "r_sq = regressor_l.score(X_train, y_train)\n",
    "mse_test = mean_squared_error(y_test, y_pred_test)\n",
    "\n",
    "print('coefficient of determination:', r_sq)\n",
    "print('Slope: {:.2f}'.format(regressor_l.coef_[0]))\n",
    "print('Intercept: {:.2f}'.format(regressor_l.intercept_))\n",
    "print(f'mse_test: {mse_test:.3f}',)\n"
   ],
   "metadata": {
    "collapsed": false,
    "pycharm": {
     "name": "#%%\n"
    }
   }
  },
  {
   "cell_type": "code",
   "execution_count": 25,
   "outputs": [
    {
     "name": "stdout",
     "output_type": "stream",
     "text": [
      "Score: -0.023\n",
      "mse_test_gb: 0.023\n"
     ]
    }
   ],
   "source": [
    "cv = KFold(n_splits=5, shuffle=True, random_state=42)\n",
    "regressor_gb = GradientBoostingRegressor(n_estimators=100)\n",
    "score_gb = cross_val_score(regressor_gb, X_train, y_train, cv=cv, scoring='neg_mean_squared_error', n_jobs=-1).mean()\n",
    "print(f\"Score: {score_gb:.3f}\")\n",
    "regressor_gb.fit(X_train,y_train)\n",
    "y_pred_test_gb = regressor_gb.predict(X_test)\n",
    "mse_test_gb=mean_squared_error(y_test, y_pred_test_gb)\n",
    "print(f\"mse_test_gb: {mse_test_gb:.3f}\")"
   ],
   "metadata": {
    "collapsed": false,
    "pycharm": {
     "name": "#%%\n"
    }
   }
  },
  {
   "cell_type": "code",
   "execution_count": 26,
   "outputs": [
    {
     "name": "stdout",
     "output_type": "stream",
     "text": [
      "mse_test_gb: 0.041\n",
      "mse_test_gb: 0.069\n",
      "mse_test_gb: 0.046\n",
      "mse_test_gb: 0.042\n",
      "Минимальное значение при С = 0.001 и ядре: ('linear', 0.041)\n",
      "mse_test_gb: 0.041\n",
      "mse_test_gb: 0.067\n",
      "mse_test_gb: 0.035\n",
      "mse_test_gb: 2.411\n",
      "Минимальное значение при С = 0.01 и ядре: ('rbf', 0.035)\n",
      "mse_test_gb: 0.041\n",
      "mse_test_gb: 0.067\n",
      "mse_test_gb: 0.033\n",
      "mse_test_gb: 237.121\n",
      "Минимальное значение при С = 0.1 и ядре: ('rbf', 0.033)\n",
      "mse_test_gb: 0.041\n",
      "mse_test_gb: 0.067\n",
      "mse_test_gb: 0.033\n",
      "mse_test_gb: 23248.785\n",
      "Минимальное значение при С = 1.0 и ядре: ('rbf', 0.033)\n",
      "mse_test_gb: 0.041\n",
      "mse_test_gb: 0.067\n",
      "mse_test_gb: 0.032\n",
      "mse_test_gb: 2508497.686\n",
      "Минимальное значение при С = 10.0 и ядре: ('rbf', 0.032)\n"
     ]
    }
   ],
   "source": [
    "svm_score = {}\n",
    "kernel_score = {}\n",
    "C_range = [10.0 ** i for i in range(-3, 2)]\n",
    "kernels = ['linear', 'poly', 'rbf', 'sigmoid']\n",
    "\n",
    "for C in C_range:\n",
    "    kernel_score = {}\n",
    "    for kernel in kernels:\n",
    "        svm = SVR(C=C, kernel=kernel).fit(X_train, y_train)\n",
    "        y_pred_test_svm = svm.predict(X_test)\n",
    "        mse_test_svm=mean_squared_error(y_test, y_pred_test_svm)\n",
    "        kernel_score[kernel] = round(mse_test_svm,3)\n",
    "        print(f\"mse_test_gb: {mse_test_svm:.3f}\")\n",
    "    svm_score[C] = kernel_score\n",
    "    print(f\"Минимальное значение при С = {C} и ядре: {min(kernel_score.items(), key=lambda x: x[1])}\")\n"
   ],
   "metadata": {
    "collapsed": false,
    "pycharm": {
     "name": "#%%\n"
    }
   }
  },
  {
   "cell_type": "code",
   "execution_count": 29,
   "outputs": [
    {
     "name": "stdout",
     "output_type": "stream",
     "text": [
      "mse_test_gb: 0.202\n"
     ]
    }
   ],
   "source": [
    "regressor_sgb = SGDRegressor(random_state=241).fit(X_train, y_train)\n",
    "y_pred_test_sgb = regressor_sgb.predict(X_test)\n",
    "mse_test_sgb=mean_squared_error(y_test, y_pred_test_sgb)\n",
    "rmse_test_sgb=math.sqrt(mse_test_sgb)\n",
    "print(f\"mse_test_sgb: {rmse_test_sgb:.3f}\")"
   ],
   "metadata": {
    "collapsed": false,
    "pycharm": {
     "name": "#%%\n"
    }
   }
  },
  {
   "cell_type": "code",
   "execution_count": 33,
   "outputs": [
    {
     "name": "stdout",
     "output_type": "stream",
     "text": [
      "mse_test_xgb: 0.023\n"
     ]
    }
   ],
   "source": [
    "xgb_r = xg.XGBRegressor(objective ='reg:squarederror', n_estimators = 10).fit(X_train, y_train)\n",
    "y_pred_xgbr = xgb_r.predict(X_test)\n",
    "mse_test_y_pred_xgbr=mean_squared_error(y_test, y_pred_xgbr)\n",
    "print(f\"mse_test_xgb: {mse_test_y_pred_xgbr:.3f}\")"
   ],
   "metadata": {
    "collapsed": false,
    "pycharm": {
     "name": "#%%\n"
    }
   }
  },
  {
   "cell_type": "markdown",
   "source": [
    "#### Минимальное значение mse имеет XGBRegressor, для подготовки модели выбираем его.\n",
    "#### Финальная модель представлена в файле salary-predict.ipynb\n",
    "\n",
    "#### XGBRegressor has the minimum mse value, we select it to prepare the model.\n",
    "#### The final model is presented in the salary-pred.ipynb file"
   ],
   "metadata": {
    "collapsed": false,
    "pycharm": {
     "name": "#%% md\n"
    }
   }
  }
 ],
 "metadata": {
  "kernelspec": {
   "name": "pycharm-e5b45c7",
   "language": "python",
   "display_name": "PyCharm (ML)"
  },
  "language_info": {
   "codemirror_mode": {
    "name": "ipython",
    "version": 2
   },
   "file_extension": ".py",
   "mimetype": "text/x-python",
   "name": "python",
   "nbconvert_exporter": "python",
   "pygments_lexer": "ipython2",
   "version": "3.8.5-final"
  }
 },
 "nbformat": 4,
 "nbformat_minor": 0
}