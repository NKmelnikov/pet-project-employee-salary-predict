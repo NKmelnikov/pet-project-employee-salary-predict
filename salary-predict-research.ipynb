{
 "cells": [
  {
   "cell_type": "code",
   "execution_count": 1,
   "metadata": {
    "collapsed": true
   },
   "outputs": [],
   "source": [
    "from datetime import datetime\n",
    "import math\n",
    "import numpy as np\n",
    "import pandas as pd\n",
    "import matplotlib.pyplot as plt\n",
    "from sklearn.preprocessing import OneHotEncoder, LabelEncoder\n",
    "from sklearn.linear_model import LinearRegression, Ridge, Lasso, ElasticNet,SGDRegressor\n",
    "from sklearn.metrics import mean_squared_error\n",
    "from sklearn.preprocessing import StandardScaler\n",
    "from sklearn.svm import SVR\n",
    "import xgboost as xg\n",
    "\n",
    "from sklearn.ensemble import RandomForestRegressor, GradientBoostingRegressor\n",
    "\n",
    "from sklearn.model_selection import KFold, cross_val_score, train_test_split, GridSearchCV\n",
    "from sklearn.preprocessing import StandardScaler"
   ]
  },
  {
   "cell_type": "code",
   "execution_count": 2,
   "outputs": [],
   "source": [
    "df = pd.read_csv('baltimore-city-employee-salaries-fy2019.csv')\n",
    "df.columns= df.columns.str.lower()\n",
    "gross_mean = df.loc[:, 'gross'].mean()\n",
    "\n",
    "# Заменим пропуски на среднее значение по колонки gross и Дату от которой будем считать стаж\n",
    "df.loc[:, 'gross'].fillna(gross_mean, inplace=True)\n",
    "df.loc[:, 'hire_dt'].fillna(datetime(2020, 1, 1), inplace=True)"
   ],
   "metadata": {
    "collapsed": false,
    "pycharm": {
     "name": "#%%\n"
    }
   }
  },
  {
   "cell_type": "code",
   "execution_count": 3,
   "outputs": [
    {
     "data": {
      "text/plain": "               gross\ncount    1010.000000\nmean    64389.269835\nstd     28828.964940\nmin      1461.540000\n25%     45836.290833\n50%     60914.598636\n75%     77901.222500\nmax    238772.040000",
      "text/html": "<div>\n<style scoped>\n    .dataframe tbody tr th:only-of-type {\n        vertical-align: middle;\n    }\n\n    .dataframe tbody tr th {\n        vertical-align: top;\n    }\n\n    .dataframe thead th {\n        text-align: right;\n    }\n</style>\n<table border=\"1\" class=\"dataframe\">\n  <thead>\n    <tr style=\"text-align: right;\">\n      <th></th>\n      <th>gross</th>\n    </tr>\n  </thead>\n  <tbody>\n    <tr>\n      <th>count</th>\n      <td>1010.000000</td>\n    </tr>\n    <tr>\n      <th>mean</th>\n      <td>64389.269835</td>\n    </tr>\n    <tr>\n      <th>std</th>\n      <td>28828.964940</td>\n    </tr>\n    <tr>\n      <th>min</th>\n      <td>1461.540000</td>\n    </tr>\n    <tr>\n      <th>25%</th>\n      <td>45836.290833</td>\n    </tr>\n    <tr>\n      <th>50%</th>\n      <td>60914.598636</td>\n    </tr>\n    <tr>\n      <th>75%</th>\n      <td>77901.222500</td>\n    </tr>\n    <tr>\n      <th>max</th>\n      <td>238772.040000</td>\n    </tr>\n  </tbody>\n</table>\n</div>"
     },
     "execution_count": 3,
     "metadata": {},
     "output_type": "execute_result"
    }
   ],
   "source": [
    "# Выясним список всех профессий участвующих в выборке\n",
    "df_jobtitle = df[['jobtitle', 'gross']]\n",
    "df_jobtitle = df_jobtitle.groupby('jobtitle', as_index=False).mean()\n",
    "df_jobtitle.describe()\n",
    "# Видим, что их 1010 уникальных наименований\n",
    "\n"
   ],
   "metadata": {
    "collapsed": false,
    "pycharm": {
     "name": "#%%\n"
    }
   }
  },
  {
   "cell_type": "code",
   "execution_count": 4,
   "outputs": [
    {
     "name": "stdout",
     "output_type": "stream",
     "text": [
      "Самая низкая средняя зарплата у специалистов: Office Assistant\n",
      " она составляет: 1461.54\n",
      "Самая высокая средняя зарплата у специалистов: State's Attorney\n",
      " она составляет: 238772.04\n"
     ]
    }
   ],
   "source": [
    "df_jobtitle.sort_values(by=['gross'], inplace=True)\n",
    "print(f\"Самая низкая средняя зарплата у специалистов: {df_jobtitle.iloc[0]['jobtitle']}\\n она составляет: {df_jobtitle.iloc[0]['gross']:.2f}\")\n",
    "print(f\"Самая высокая средняя зарплата у специалистов: {df_jobtitle.iloc[-1]['jobtitle']}\\n она составляет: {df_jobtitle.iloc[-1]['gross']:.2f}\")\n"
   ],
   "metadata": {
    "collapsed": false,
    "pycharm": {
     "name": "#%%\n"
    }
   }
  },
  {
   "cell_type": "code",
   "execution_count": 5,
   "outputs": [
    {
     "data": {
      "text/plain": "array([[<AxesSubplot:title={'center':'gross'}>]], dtype=object)"
     },
     "execution_count": 5,
     "metadata": {},
     "output_type": "execute_result"
    },
    {
     "data": {
      "text/plain": "<Figure size 432x288 with 1 Axes>",
      "image/png": "[encoded data removed]"
     },
     "metadata": {
      "needs_background": "light"
     },
     "output_type": "display_data"
    }
   ],
   "source": [
    "# Гистограмма распределения уровня зарплат по частоте\n",
    "df_jobtitle.hist(column='gross', bins=50)"
   ],
   "metadata": {
    "collapsed": false,
    "pycharm": {
     "name": "#%%\n"
    }
   }
  },
  {
   "cell_type": "code",
   "execution_count": 6,
   "outputs": [
    {
     "data": {
      "text/plain": "                    name                       jobtitle  deptid  \\\n0         Aaron,Kareem D        Utilities Inst Repair I  A50550   \n1       Aaron,Patricia G  Facilities/Office Services II  A03031   \n2          Abadir,Adam O             Council Technician  A02002   \n3  Abaku,Aigbolosimuan O                 Police Officer  A99094   \n4          Abbeduto,Mack     Assistant State's Attorney  A29011   \n\n                           descr    hire_dt  annual_rt     gross  work_exp  \n0  DPW-Water & Waste Water (550) 2018-08-27    32470.0  25743.94       492  \n1       OED-Employment Dev (031) 1979-10-24    60200.0  57806.13     14679  \n2             City Council (002) 2016-12-12    64823.0  64774.11      1115  \n3        Police Department (094) 2018-04-17    53640.0  59361.55       624  \n4  States Attorneys Office (011) 2017-05-22    68562.0  61693.59       954  ",
      "text/html": "<div>\n<style scoped>\n    .dataframe tbody tr th:only-of-type {\n        vertical-align: middle;\n    }\n\n    .dataframe tbody tr th {\n        vertical-align: top;\n    }\n\n    .dataframe thead th {\n        text-align: right;\n    }\n</style>\n<table border=\"1\" class=\"dataframe\">\n  <thead>\n    <tr style=\"text-align: right;\">\n      <th></th>\n      <th>name</th>\n      <th>jobtitle</th>\n      <th>deptid</th>\n      <th>descr</th>\n      <th>hire_dt</th>\n      <th>annual_rt</th>\n      <th>gross</th>\n      <th>work_exp</th>\n    </tr>\n  </thead>\n  <tbody>\n    <tr>\n      <th>0</th>\n      <td>Aaron,Kareem D</td>\n      <td>Utilities Inst Repair I</td>\n      <td>A50550</td>\n      <td>DPW-Water &amp; Waste Water (550)</td>\n      <td>2018-08-27</td>\n      <td>32470.0</td>\n      <td>25743.94</td>\n      <td>492</td>\n    </tr>\n    <tr>\n      <th>1</th>\n      <td>Aaron,Patricia G</td>\n      <td>Facilities/Office Services II</td>\n      <td>A03031</td>\n      <td>OED-Employment Dev (031)</td>\n      <td>1979-10-24</td>\n      <td>60200.0</td>\n      <td>57806.13</td>\n      <td>14679</td>\n    </tr>\n    <tr>\n      <th>2</th>\n      <td>Abadir,Adam O</td>\n      <td>Council Technician</td>\n      <td>A02002</td>\n      <td>City Council (002)</td>\n      <td>2016-12-12</td>\n      <td>64823.0</td>\n      <td>64774.11</td>\n      <td>1115</td>\n    </tr>\n    <tr>\n      <th>3</th>\n      <td>Abaku,Aigbolosimuan O</td>\n      <td>Police Officer</td>\n      <td>A99094</td>\n      <td>Police Department (094)</td>\n      <td>2018-04-17</td>\n      <td>53640.0</td>\n      <td>59361.55</td>\n      <td>624</td>\n    </tr>\n    <tr>\n      <th>4</th>\n      <td>Abbeduto,Mack</td>\n      <td>Assistant State's Attorney</td>\n      <td>A29011</td>\n      <td>States Attorneys Office (011)</td>\n      <td>2017-05-22</td>\n      <td>68562.0</td>\n      <td>61693.59</td>\n      <td>954</td>\n    </tr>\n  </tbody>\n</table>\n</div>"
     },
     "execution_count": 6,
     "metadata": {},
     "output_type": "execute_result"
    }
   ],
   "source": [
    "# Конвертируем колонку времени устройства в стаж работы (в днях)\n",
    "convert_point = datetime(2020, 1, 1)\n",
    "df['hire_dt'] = pd.to_datetime(df['hire_dt'])\n",
    "work_experience = convert_point - df['hire_dt']\n",
    "df['work_exp'] = work_experience.dt.days\n",
    "df.head()\n"
   ],
   "metadata": {
    "collapsed": false,
    "pycharm": {
     "name": "#%%\n"
    }
   }
  },
  {
   "cell_type": "code",
   "execution_count": 7,
   "outputs": [
    {
     "data": {
      "text/plain": "                    name                       jobtitle deptid  \\\n0         Aaron,Kareem D        Utilities Inst Repair I    A50   \n1       Aaron,Patricia G  Facilities/Office Services II    A03   \n2          Abadir,Adam O             Council Technician    A02   \n3  Abaku,Aigbolosimuan O                 Police Officer    A99   \n4          Abbeduto,Mack     Assistant State's Attorney    A29   \n\n                           descr    hire_dt  annual_rt     gross  work_exp  \\\n0  DPW-Water & Waste Water (550) 2018-08-27    32470.0  25743.94       492   \n1       OED-Employment Dev (031) 1979-10-24    60200.0  57806.13     14679   \n2             City Council (002) 2016-12-12    64823.0  64774.11      1115   \n3        Police Department (094) 2018-04-17    53640.0  59361.55       624   \n4  States Attorneys Office (011) 2017-05-22    68562.0  61693.59       954   \n\n   eid  \n0  550  \n1  031  \n2  002  \n3  094  \n4  011  ",
      "text/html": "<div>\n<style scoped>\n    .dataframe tbody tr th:only-of-type {\n        vertical-align: middle;\n    }\n\n    .dataframe tbody tr th {\n        vertical-align: top;\n    }\n\n    .dataframe thead th {\n        text-align: right;\n    }\n</style>\n<table border=\"1\" class=\"dataframe\">\n  <thead>\n    <tr style=\"text-align: right;\">\n      <th></th>\n      <th>name</th>\n      <th>jobtitle</th>\n      <th>deptid</th>\n      <th>descr</th>\n      <th>hire_dt</th>\n      <th>annual_rt</th>\n      <th>gross</th>\n      <th>work_exp</th>\n      <th>eid</th>\n    </tr>\n  </thead>\n  <tbody>\n    <tr>\n      <th>0</th>\n      <td>Aaron,Kareem D</td>\n      <td>Utilities Inst Repair I</td>\n      <td>A50</td>\n      <td>DPW-Water &amp; Waste Water (550)</td>\n      <td>2018-08-27</td>\n      <td>32470.0</td>\n      <td>25743.94</td>\n      <td>492</td>\n      <td>550</td>\n    </tr>\n    <tr>\n      <th>1</th>\n      <td>Aaron,Patricia G</td>\n      <td>Facilities/Office Services II</td>\n      <td>A03</td>\n      <td>OED-Employment Dev (031)</td>\n      <td>1979-10-24</td>\n      <td>60200.0</td>\n      <td>57806.13</td>\n      <td>14679</td>\n      <td>031</td>\n    </tr>\n    <tr>\n      <th>2</th>\n      <td>Abadir,Adam O</td>\n      <td>Council Technician</td>\n      <td>A02</td>\n      <td>City Council (002)</td>\n      <td>2016-12-12</td>\n      <td>64823.0</td>\n      <td>64774.11</td>\n      <td>1115</td>\n      <td>002</td>\n    </tr>\n    <tr>\n      <th>3</th>\n      <td>Abaku,Aigbolosimuan O</td>\n      <td>Police Officer</td>\n      <td>A99</td>\n      <td>Police Department (094)</td>\n      <td>2018-04-17</td>\n      <td>53640.0</td>\n      <td>59361.55</td>\n      <td>624</td>\n      <td>094</td>\n    </tr>\n    <tr>\n      <th>4</th>\n      <td>Abbeduto,Mack</td>\n      <td>Assistant State's Attorney</td>\n      <td>A29</td>\n      <td>States Attorneys Office (011)</td>\n      <td>2017-05-22</td>\n      <td>68562.0</td>\n      <td>61693.59</td>\n      <td>954</td>\n      <td>011</td>\n    </tr>\n  </tbody>\n</table>\n</div>"
     },
     "execution_count": 7,
     "metadata": {},
     "output_type": "execute_result"
    }
   ],
   "source": [
    "# Обработаем категориальный признак deptid\n",
    "# Можем заметить, что первые 3 символа - это id департамента, последние - уникальный id сотрудника ( он дублируется в колонке descr )\n",
    "# Оставим только принадлежность к департаменту и добавим отдельную колонку с id сотрудника\n",
    "\n",
    "df['eid'] = df['deptid'].str[3:7]\n",
    "df['deptid'] = df['deptid'].str[:3]\n",
    "df.head()"
   ],
   "metadata": {
    "collapsed": false,
    "pycharm": {
     "name": "#%%\n"
    }
   }
  },
  {
   "cell_type": "code",
   "execution_count": 8,
   "outputs": [],
   "source": [
    "# подход первый - dummy encoding / one hot encoding\n",
    "\n",
    "# ohe = OneHotEncoder(sparse=False)\n",
    "# new_ohe_features = ohe.fit_transform(df.deptid.values.reshape(-1,1))\n",
    "# tmp = pd.DataFrame(new_ohe_features, columns=[str(i) for i in list(df.deptid.unique())])\n",
    "# df = pd.concat([df, tmp], axis=1)\n"
   ],
   "metadata": {
    "collapsed": false,
    "pycharm": {
     "name": "#%%\n"
    }
   }
  },
  {
   "cell_type": "code",
   "execution_count": 9,
   "outputs": [
    {
     "name": "stderr",
     "output_type": "stream",
     "text": [
      "/home/nm/Documents/Study/ML/venv/lib/python3.8/site-packages/sklearn/utils/validation.py:72: DataConversionWarning: A column-vector y was passed when a 1d array was expected. Please change the shape of y to (n_samples, ), for example using ravel().\n",
      "  return f(**kwargs)\n"
     ]
    },
    {
     "data": {
      "text/plain": "                    name  jobtitle  deptid                          descr  \\\n0         Aaron,Kareem D       952      30  DPW-Water & Waste Water (550)   \n1       Aaron,Patricia G       353       2       OED-Employment Dev (031)   \n2          Abadir,Adam O       234       1             City Council (002)   \n3  Abaku,Aigbolosimuan O       717      48        Police Department (094)   \n4          Abbeduto,Mack        56      17  States Attorneys Office (011)   \n\n     hire_dt  annual_rt     gross  work_exp  eid  \n0 2018-08-27    32470.0  25743.94       492  550  \n1 1979-10-24    60200.0  57806.13     14679  031  \n2 2016-12-12    64823.0  64774.11      1115  002  \n3 2018-04-17    53640.0  59361.55       624  094  \n4 2017-05-22    68562.0  61693.59       954  011  ",
      "text/html": "<div>\n<style scoped>\n    .dataframe tbody tr th:only-of-type {\n        vertical-align: middle;\n    }\n\n    .dataframe tbody tr th {\n        vertical-align: top;\n    }\n\n    .dataframe thead th {\n        text-align: right;\n    }\n</style>\n<table border=\"1\" class=\"dataframe\">\n  <thead>\n    <tr style=\"text-align: right;\">\n      <th></th>\n      <th>name</th>\n      <th>jobtitle</th>\n      <th>deptid</th>\n      <th>descr</th>\n      <th>hire_dt</th>\n      <th>annual_rt</th>\n      <th>gross</th>\n      <th>work_exp</th>\n      <th>eid</th>\n    </tr>\n  </thead>\n  <tbody>\n    <tr>\n      <th>0</th>\n      <td>Aaron,Kareem D</td>\n      <td>952</td>\n      <td>30</td>\n      <td>DPW-Water &amp; Waste Water (550)</td>\n      <td>2018-08-27</td>\n      <td>32470.0</td>\n      <td>25743.94</td>\n      <td>492</td>\n      <td>550</td>\n    </tr>\n    <tr>\n      <th>1</th>\n      <td>Aaron,Patricia G</td>\n      <td>353</td>\n      <td>2</td>\n      <td>OED-Employment Dev (031)</td>\n      <td>1979-10-24</td>\n      <td>60200.0</td>\n      <td>57806.13</td>\n      <td>14679</td>\n      <td>031</td>\n    </tr>\n    <tr>\n      <th>2</th>\n      <td>Abadir,Adam O</td>\n      <td>234</td>\n      <td>1</td>\n      <td>City Council (002)</td>\n      <td>2016-12-12</td>\n      <td>64823.0</td>\n      <td>64774.11</td>\n      <td>1115</td>\n      <td>002</td>\n    </tr>\n    <tr>\n      <th>3</th>\n      <td>Abaku,Aigbolosimuan O</td>\n      <td>717</td>\n      <td>48</td>\n      <td>Police Department (094)</td>\n      <td>2018-04-17</td>\n      <td>53640.0</td>\n      <td>59361.55</td>\n      <td>624</td>\n      <td>094</td>\n    </tr>\n    <tr>\n      <th>4</th>\n      <td>Abbeduto,Mack</td>\n      <td>56</td>\n      <td>17</td>\n      <td>States Attorneys Office (011)</td>\n      <td>2017-05-22</td>\n      <td>68562.0</td>\n      <td>61693.59</td>\n      <td>954</td>\n      <td>011</td>\n    </tr>\n  </tbody>\n</table>\n</div>"
     },
     "execution_count": 9,
     "metadata": {},
     "output_type": "execute_result"
    }
   ],
   "source": [
    "# подход второй - label encoding\n",
    "\n",
    "le = LabelEncoder()\n",
    "le_deptid = le.fit_transform(df['deptid'].values.reshape(-1,1))\n",
    "le_jobtitle = le.fit_transform(df['jobtitle'].values.reshape(-1,1))\n",
    "\n",
    "le_deptid_df = pd.DataFrame(data={'deptid': le_deptid})\n",
    "le_jobtitle_df = pd.DataFrame(data={'jobtitle': le_jobtitle})\n",
    "\n",
    "df['deptid'] = le_deptid_df\n",
    "df['jobtitle'] = le_jobtitle_df\n",
    "\n",
    "df.head()\n"
   ],
   "metadata": {
    "collapsed": false,
    "pycharm": {
     "name": "#%%\n"
    }
   }
  },
  {
   "cell_type": "code",
   "execution_count": 10,
   "outputs": [
    {
     "data": {
      "text/plain": "       jobtitle    deptid  annual_rt  work_exp\n13361  0.407787  0.985454  -0.324811  1.114178\n9113  -0.041309  0.503432   0.322711  2.564759\n12472  0.992385 -2.113260  -0.954733 -0.238132\n10066  0.454245  0.227990  -0.471246 -0.768171\n8870  -1.179534 -1.011495   0.162538 -0.214661",
      "text/html": "<div>\n<style scoped>\n    .dataframe tbody tr th:only-of-type {\n        vertical-align: middle;\n    }\n\n    .dataframe tbody tr th {\n        vertical-align: top;\n    }\n\n    .dataframe thead th {\n        text-align: right;\n    }\n</style>\n<table border=\"1\" class=\"dataframe\">\n  <thead>\n    <tr style=\"text-align: right;\">\n      <th></th>\n      <th>jobtitle</th>\n      <th>deptid</th>\n      <th>annual_rt</th>\n      <th>work_exp</th>\n    </tr>\n  </thead>\n  <tbody>\n    <tr>\n      <th>13361</th>\n      <td>0.407787</td>\n      <td>0.985454</td>\n      <td>-0.324811</td>\n      <td>1.114178</td>\n    </tr>\n    <tr>\n      <th>9113</th>\n      <td>-0.041309</td>\n      <td>0.503432</td>\n      <td>0.322711</td>\n      <td>2.564759</td>\n    </tr>\n    <tr>\n      <th>12472</th>\n      <td>0.992385</td>\n      <td>-2.113260</td>\n      <td>-0.954733</td>\n      <td>-0.238132</td>\n    </tr>\n    <tr>\n      <th>10066</th>\n      <td>0.454245</td>\n      <td>0.227990</td>\n      <td>-0.471246</td>\n      <td>-0.768171</td>\n    </tr>\n    <tr>\n      <th>8870</th>\n      <td>-1.179534</td>\n      <td>-1.011495</td>\n      <td>0.162538</td>\n      <td>-0.214661</td>\n    </tr>\n  </tbody>\n</table>\n</div>"
     },
     "execution_count": 10,
     "metadata": {},
     "output_type": "execute_result"
    }
   ],
   "source": [
    "# Формируем вектор Х и y\n",
    "# В X войдёт только work_exp и Категориальные признаки\n",
    "X = df[['jobtitle', 'deptid', 'annual_rt', 'work_exp']]\n",
    "X.reset_index()\n",
    "scaler = StandardScaler()\n",
    "X = pd.DataFrame(scaler.fit_transform(X), index=X.index, columns=X.columns)\n",
    "\n",
    "y = df.loc[:, 'gross'].map(lambda x: x/100000)\n",
    "X_train, X_test, y_train, y_test = train_test_split(X, y, test_size=0.2, random_state=42)\n",
    "X_train.head()"
   ],
   "metadata": {
    "collapsed": false,
    "pycharm": {
     "name": "#%%\n"
    }
   }
  },
  {
   "cell_type": "code",
   "execution_count": 11,
   "outputs": [
    {
     "name": "stdout",
     "output_type": "stream",
     "text": [
      "coefficient of determination: 0.683398906882825\n",
      "Slope: 0.02\n",
      "Intercept: 0.62\n"
     ]
    }
   ],
   "source": [
    "regressor_l = LinearRegression(n_jobs=-1)\n",
    "regressor_l.fit(X_train, y_train)\n",
    "\n",
    "y_pred_test = regressor_l.predict(X_test)\n",
    "\n",
    "\n",
    "r_sq = regressor_l.score(X_train, y_train)\n",
    "print('coefficient of determination:', r_sq)\n",
    "print('Slope: {:.2f}'.format(regressor_l.coef_[0]))\n",
    "print('Intercept: {:.2f}'.format(regressor_l.intercept_))\n"
   ],
   "metadata": {
    "collapsed": false,
    "pycharm": {
     "name": "#%%\n"
    }
   }
  },
  {
   "cell_type": "code",
   "execution_count": 12,
   "outputs": [
    {
     "name": "stdout",
     "output_type": "stream",
     "text": [
      "mse_test: 0.040\n"
     ]
    }
   ],
   "source": [
    "mse_test = mean_squared_error(y_test, y_pred_test)\n",
    "print(f'mse_test: {mse_test:.3f}',)"
   ],
   "metadata": {
    "collapsed": false,
    "pycharm": {
     "name": "#%%\n"
    }
   }
  },
  {
   "cell_type": "code",
   "execution_count": 13,
   "outputs": [],
   "source": [
    "cv = KFold(n_splits=5, shuffle=True, random_state=42)"
   ],
   "metadata": {
    "collapsed": false,
    "pycharm": {
     "name": "#%%\n"
    }
   }
  },
  {
   "cell_type": "code",
   "execution_count": 14,
   "outputs": [
    {
     "name": "stdout",
     "output_type": "stream",
     "text": [
      "Score: -0.023\n"
     ]
    }
   ],
   "source": [
    "regressor_gb = GradientBoostingRegressor(n_estimators=100)\n",
    "score_gb = cross_val_score(regressor_gb, X_train, y_train, cv=cv, scoring='neg_mean_squared_error', n_jobs=-1).mean()\n",
    "print(f\"Score: {score_gb:.3f}\")"
   ],
   "metadata": {
    "collapsed": false,
    "pycharm": {
     "name": "#%%\n"
    }
   }
  },
  {
   "cell_type": "code",
   "execution_count": 15,
   "outputs": [],
   "source": [
    "regressor_gb.fit(X_train,y_train)\n",
    "y_pred_test_gb = regressor_gb.predict(X_test)"
   ],
   "metadata": {
    "collapsed": false,
    "pycharm": {
     "name": "#%%\n"
    }
   }
  },
  {
   "cell_type": "code",
   "execution_count": 16,
   "outputs": [
    {
     "name": "stdout",
     "output_type": "stream",
     "text": [
      "mse_test_gb: 0.023\n"
     ]
    }
   ],
   "source": [
    "mse_test_gb=mean_squared_error(y_test, y_pred_test_gb)\n",
    "print(f\"mse_test_gb: {mse_test_gb:.3f}\")"
   ],
   "metadata": {
    "collapsed": false,
    "pycharm": {
     "name": "#%%\n"
    }
   }
  },
  {
   "cell_type": "code",
   "execution_count": 17,
   "outputs": [
    {
     "name": "stdout",
     "output_type": "stream",
     "text": [
      "mse_test_gb: 0.041\n",
      "mse_test_gb: 0.069\n"
     ]
    },
    {
     "ename": "KeyboardInterrupt",
     "evalue": "",
     "output_type": "error",
     "traceback": [
      "\u001B[0;31m---------------------------------------------------------------------------\u001B[0m",
      "\u001B[0;31mKeyboardInterrupt\u001B[0m                         Traceback (most recent call last)",
      "\u001B[0;32m<ipython-input-17-7004120de760>\u001B[0m in \u001B[0;36m<module>\u001B[0;34m\u001B[0m\n\u001B[1;32m      7\u001B[0m     \u001B[0mkernel_score\u001B[0m \u001B[0;34m=\u001B[0m \u001B[0;34m{\u001B[0m\u001B[0;34m}\u001B[0m\u001B[0;34m\u001B[0m\u001B[0;34m\u001B[0m\u001B[0m\n\u001B[1;32m      8\u001B[0m     \u001B[0;32mfor\u001B[0m \u001B[0mkernel\u001B[0m \u001B[0;32min\u001B[0m \u001B[0mkernels\u001B[0m\u001B[0;34m:\u001B[0m\u001B[0;34m\u001B[0m\u001B[0;34m\u001B[0m\u001B[0m\n\u001B[0;32m----> 9\u001B[0;31m         \u001B[0msvm\u001B[0m \u001B[0;34m=\u001B[0m \u001B[0mSVR\u001B[0m\u001B[0;34m(\u001B[0m\u001B[0mC\u001B[0m\u001B[0;34m=\u001B[0m\u001B[0mC\u001B[0m\u001B[0;34m,\u001B[0m \u001B[0mkernel\u001B[0m\u001B[0;34m=\u001B[0m\u001B[0mkernel\u001B[0m\u001B[0;34m)\u001B[0m\u001B[0;34m.\u001B[0m\u001B[0mfit\u001B[0m\u001B[0;34m(\u001B[0m\u001B[0mX_train\u001B[0m\u001B[0;34m,\u001B[0m \u001B[0my_train\u001B[0m\u001B[0;34m)\u001B[0m\u001B[0;34m\u001B[0m\u001B[0;34m\u001B[0m\u001B[0m\n\u001B[0m\u001B[1;32m     10\u001B[0m         \u001B[0my_pred_test_svm\u001B[0m \u001B[0;34m=\u001B[0m \u001B[0msvm\u001B[0m\u001B[0;34m.\u001B[0m\u001B[0mpredict\u001B[0m\u001B[0;34m(\u001B[0m\u001B[0mX_test\u001B[0m\u001B[0;34m)\u001B[0m\u001B[0;34m\u001B[0m\u001B[0;34m\u001B[0m\u001B[0m\n\u001B[1;32m     11\u001B[0m         \u001B[0mmse_test_svm\u001B[0m\u001B[0;34m=\u001B[0m\u001B[0mmean_squared_error\u001B[0m\u001B[0;34m(\u001B[0m\u001B[0my_test\u001B[0m\u001B[0;34m,\u001B[0m \u001B[0my_pred_test_svm\u001B[0m\u001B[0;34m)\u001B[0m\u001B[0;34m\u001B[0m\u001B[0;34m\u001B[0m\u001B[0m\n",
      "\u001B[0;32m~/Documents/Study/ML/venv/lib/python3.8/site-packages/sklearn/svm/_base.py\u001B[0m in \u001B[0;36mfit\u001B[0;34m(self, X, y, sample_weight)\u001B[0m\n\u001B[1;32m    215\u001B[0m \u001B[0;34m\u001B[0m\u001B[0m\n\u001B[1;32m    216\u001B[0m         \u001B[0mseed\u001B[0m \u001B[0;34m=\u001B[0m \u001B[0mrnd\u001B[0m\u001B[0;34m.\u001B[0m\u001B[0mrandint\u001B[0m\u001B[0;34m(\u001B[0m\u001B[0mnp\u001B[0m\u001B[0;34m.\u001B[0m\u001B[0miinfo\u001B[0m\u001B[0;34m(\u001B[0m\u001B[0;34m'i'\u001B[0m\u001B[0;34m)\u001B[0m\u001B[0;34m.\u001B[0m\u001B[0mmax\u001B[0m\u001B[0;34m)\u001B[0m\u001B[0;34m\u001B[0m\u001B[0;34m\u001B[0m\u001B[0m\n\u001B[0;32m--> 217\u001B[0;31m         \u001B[0mfit\u001B[0m\u001B[0;34m(\u001B[0m\u001B[0mX\u001B[0m\u001B[0;34m,\u001B[0m \u001B[0my\u001B[0m\u001B[0;34m,\u001B[0m \u001B[0msample_weight\u001B[0m\u001B[0;34m,\u001B[0m \u001B[0msolver_type\u001B[0m\u001B[0;34m,\u001B[0m \u001B[0mkernel\u001B[0m\u001B[0;34m,\u001B[0m \u001B[0mrandom_seed\u001B[0m\u001B[0;34m=\u001B[0m\u001B[0mseed\u001B[0m\u001B[0;34m)\u001B[0m\u001B[0;34m\u001B[0m\u001B[0;34m\u001B[0m\u001B[0m\n\u001B[0m\u001B[1;32m    218\u001B[0m         \u001B[0;31m# see comment on the other call to np.iinfo in this file\u001B[0m\u001B[0;34m\u001B[0m\u001B[0;34m\u001B[0m\u001B[0;34m\u001B[0m\u001B[0m\n\u001B[1;32m    219\u001B[0m \u001B[0;34m\u001B[0m\u001B[0m\n",
      "\u001B[0;32m~/Documents/Study/ML/venv/lib/python3.8/site-packages/sklearn/svm/_base.py\u001B[0m in \u001B[0;36m_dense_fit\u001B[0;34m(self, X, y, sample_weight, solver_type, kernel, random_seed)\u001B[0m\n\u001B[1;32m    266\u001B[0m         \u001B[0mself\u001B[0m\u001B[0;34m.\u001B[0m\u001B[0msupport_\u001B[0m\u001B[0;34m,\u001B[0m \u001B[0mself\u001B[0m\u001B[0;34m.\u001B[0m\u001B[0msupport_vectors_\u001B[0m\u001B[0;34m,\u001B[0m \u001B[0mself\u001B[0m\u001B[0;34m.\u001B[0m\u001B[0m_n_support\u001B[0m\u001B[0;34m,\u001B[0m\u001B[0;31m \u001B[0m\u001B[0;31m\\\u001B[0m\u001B[0;34m\u001B[0m\u001B[0;34m\u001B[0m\u001B[0m\n\u001B[1;32m    267\u001B[0m             \u001B[0mself\u001B[0m\u001B[0;34m.\u001B[0m\u001B[0mdual_coef_\u001B[0m\u001B[0;34m,\u001B[0m \u001B[0mself\u001B[0m\u001B[0;34m.\u001B[0m\u001B[0mintercept_\u001B[0m\u001B[0;34m,\u001B[0m \u001B[0mself\u001B[0m\u001B[0;34m.\u001B[0m\u001B[0m_probA\u001B[0m\u001B[0;34m,\u001B[0m\u001B[0;31m \u001B[0m\u001B[0;31m\\\u001B[0m\u001B[0;34m\u001B[0m\u001B[0;34m\u001B[0m\u001B[0m\n\u001B[0;32m--> 268\u001B[0;31m             self._probB, self.fit_status_ = libsvm.fit(\n\u001B[0m\u001B[1;32m    269\u001B[0m                 \u001B[0mX\u001B[0m\u001B[0;34m,\u001B[0m \u001B[0my\u001B[0m\u001B[0;34m,\u001B[0m\u001B[0;34m\u001B[0m\u001B[0;34m\u001B[0m\u001B[0m\n\u001B[1;32m    270\u001B[0m                 \u001B[0msvm_type\u001B[0m\u001B[0;34m=\u001B[0m\u001B[0msolver_type\u001B[0m\u001B[0;34m,\u001B[0m \u001B[0msample_weight\u001B[0m\u001B[0;34m=\u001B[0m\u001B[0msample_weight\u001B[0m\u001B[0;34m,\u001B[0m\u001B[0;34m\u001B[0m\u001B[0;34m\u001B[0m\u001B[0m\n",
      "\u001B[0;31mKeyboardInterrupt\u001B[0m: "
     ]
    }
   ],
   "source": [
    "svm_score = {}\n",
    "kernel_score = {}\n",
    "C_range = [10.0 ** i for i in range(-3, 2)]\n",
    "kernels = ['linear', 'poly', 'rbf', 'sigmoid']\n",
    "\n",
    "for C in C_range:\n",
    "    kernel_score = {}\n",
    "    for kernel in kernels:\n",
    "        svm = SVR(C=C, kernel=kernel).fit(X_train, y_train)\n",
    "        y_pred_test_svm = svm.predict(X_test)\n",
    "        mse_test_svm=mean_squared_error(y_test, y_pred_test_svm)\n",
    "        kernel_score[kernel] = round(mse_test_svm,3)\n",
    "        print(f\"mse_test_gb: {mse_test_svm:.3f}\")\n",
    "    svm_score[C] = kernel_score\n",
    "    print(f\"Минимальное значение при С = {C} и ядре: {min(kernel_score.items(), key=lambda x: x[1])}\")\n",
    "\n",
    "# Минимальное значение при С = 10.0 и ядре: ('rbf', 0.059)\n",
    "# Далее искать не стал, т.к. вычисляется долго и значения gb не перебивает.\n",
    "\n"
   ],
   "metadata": {
    "collapsed": false,
    "pycharm": {
     "name": "#%%\n"
    }
   }
  },
  {
   "cell_type": "code",
   "execution_count": null,
   "outputs": [],
   "source": [
    "regressor_sgb = SGDRegressor(random_state=241).fit(X_train, y_train)\n",
    "y_pred_test_sgb = regressor_sgb.predict(X_test)\n",
    "mse_test_sgb=mean_squared_error(y_test, y_pred_test_sgb)\n",
    "rmse_test_sgb=math.sqrt(mse_test_sgb)\n",
    "print(f\"mse_test_gb: {mse_test_sgb:.3f}\")\n",
    "print(f\"mse_test_gb: {rmse_test_sgb:.3f}\")"
   ],
   "metadata": {
    "collapsed": false,
    "pycharm": {
     "name": "#%%\n"
    }
   }
  },
  {
   "cell_type": "code",
   "execution_count": null,
   "outputs": [],
   "source": [
    "xgb_r = xg.XGBRegressor(objective ='reg:squarederror', n_estimators = 10).fit(X_train, y_train)\n",
    "y_pred_xgbr = xgb_r.predict(X_test)\n",
    "mse_test_y_pred_xgbr=mean_squared_error(y_test, y_pred_xgbr)\n",
    "rmse_test_y_pred_xgbr=math.sqrt(mse_test_y_pred_xgbr)\n",
    "print(f\"mse_test_xgb: {mse_test_y_pred_xgbr:.3f}\")\n",
    "print(f\"rmse_test_xgb: {rmse_test_y_pred_xgbr:.3f}\")"
   ],
   "metadata": {
    "collapsed": false,
    "pycharm": {
     "name": "#%%\n"
    }
   }
  },
  {
   "cell_type": "code",
   "execution_count": null,
   "outputs": [],
   "source": [
    "d = {'dep':[]}\n",
    "print(len(d['dep']))"
   ],
   "metadata": {
    "collapsed": false,
    "pycharm": {
     "name": "#%%\n"
    }
   }
  }
 ],
 "metadata": {
  "kernelspec": {
   "name": "pycharm-e5b45c7",
   "language": "python",
   "display_name": "PyCharm (ML)"
  },
  "language_info": {
   "codemirror_mode": {
    "name": "ipython",
    "version": 2
   },
   "file_extension": ".py",
   "mimetype": "text/x-python",
   "name": "python",
   "nbconvert_exporter": "python",
   "pygments_lexer": "ipython2",
   "version": "3.8.5-final"
  }
 },
 "nbformat": 4,
 "nbformat_minor": 0
}