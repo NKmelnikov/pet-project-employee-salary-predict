{
 "metadata": {
  "language_info": {
   "codemirror_mode": {
    "name": "ipython",
    "version": 3
   },
   "file_extension": ".py",
   "mimetype": "text/x-python",
   "name": "python",
   "nbconvert_exporter": "python",
   "pygments_lexer": "ipython3",
   "version": "3.8.5-final"
  },
  "orig_nbformat": 2,
  "kernelspec": {
   "name": "pycharm-e5b45c7",
   "language": "python",
   "display_name": "PyCharm (ML)"
  }
 },
 "nbformat": 4,
 "nbformat_minor": 2,
 "cells": [
  {
   "cell_type": "code",
   "execution_count": 8,
   "metadata": {},
   "outputs": [],
   "source": [
    "from datetime import datetime\n",
    "import pandas as pd\n",
    "import pickle\n",
    "from sklearn.preprocessing import LabelEncoder\n",
    "import xgboost as xg\n",
    "from sklearn.model_selection import train_test_split"
   ]
  },
  {
   "cell_type": "code",
   "execution_count": 9,
   "metadata": {},
   "outputs": [],
   "source": [
    "data = pd.read_csv('baltimore-city-employee-salaries-fy2019.csv')\n",
    "data.columns= data.columns.str.lower()\n",
    "gross_mean = data.loc[:, 'gross'].mean()\n",
    "data['gross'] = data['gross'].replace([0.0, 1.0], gross_mean)\n",
    "data.loc[:, 'gross'].fillna(gross_mean, inplace=True)\n",
    "data.loc[:, 'hire_dt'].fillna(datetime(2020, 1, 1), inplace=True)\n"
   ]
  },
  {
   "cell_type": "code",
   "execution_count": 10,
   "metadata": {},
   "outputs": [
    {
     "data": {
      "text/plain": "                    name                       jobtitle deptid  \\\n0         Aaron,Kareem D        Utilities Inst Repair I    A50   \n1       Aaron,Patricia G  Facilities/Office Services II    A03   \n2          Abadir,Adam O             Council Technician    A02   \n3  Abaku,Aigbolosimuan O                 Police Officer    A99   \n4          Abbeduto,Mack     Assistant State's Attorney    A29   \n\n                     descr                 hire_dt  annual_rt     gross  \n0  DPW-Water & Waste Water  08/27/2018 12:00:00 AM    32470.0  25743.94  \n1       OED-Employment Dev  10/24/1979 12:00:00 AM    60200.0  57806.13  \n2             City Council  12/12/2016 12:00:00 AM    64823.0  64774.11  \n3        Police Department  04/17/2018 12:00:00 AM    53640.0  59361.55  \n4  States Attorneys Office  05/22/2017 12:00:00 AM    68562.0  61693.59  ",
      "text/html": "<div>\n<style scoped>\n    .dataframe tbody tr th:only-of-type {\n        vertical-align: middle;\n    }\n\n    .dataframe tbody tr th {\n        vertical-align: top;\n    }\n\n    .dataframe thead th {\n        text-align: right;\n    }\n</style>\n<table border=\"1\" class=\"dataframe\">\n  <thead>\n    <tr style=\"text-align: right;\">\n      <th></th>\n      <th>name</th>\n      <th>jobtitle</th>\n      <th>deptid</th>\n      <th>descr</th>\n      <th>hire_dt</th>\n      <th>annual_rt</th>\n      <th>gross</th>\n    </tr>\n  </thead>\n  <tbody>\n    <tr>\n      <th>0</th>\n      <td>Aaron,Kareem D</td>\n      <td>Utilities Inst Repair I</td>\n      <td>A50</td>\n      <td>DPW-Water &amp; Waste Water</td>\n      <td>08/27/2018 12:00:00 AM</td>\n      <td>32470.0</td>\n      <td>25743.94</td>\n    </tr>\n    <tr>\n      <th>1</th>\n      <td>Aaron,Patricia G</td>\n      <td>Facilities/Office Services II</td>\n      <td>A03</td>\n      <td>OED-Employment Dev</td>\n      <td>10/24/1979 12:00:00 AM</td>\n      <td>60200.0</td>\n      <td>57806.13</td>\n    </tr>\n    <tr>\n      <th>2</th>\n      <td>Abadir,Adam O</td>\n      <td>Council Technician</td>\n      <td>A02</td>\n      <td>City Council</td>\n      <td>12/12/2016 12:00:00 AM</td>\n      <td>64823.0</td>\n      <td>64774.11</td>\n    </tr>\n    <tr>\n      <th>3</th>\n      <td>Abaku,Aigbolosimuan O</td>\n      <td>Police Officer</td>\n      <td>A99</td>\n      <td>Police Department</td>\n      <td>04/17/2018 12:00:00 AM</td>\n      <td>53640.0</td>\n      <td>59361.55</td>\n    </tr>\n    <tr>\n      <th>4</th>\n      <td>Abbeduto,Mack</td>\n      <td>Assistant State's Attorney</td>\n      <td>A29</td>\n      <td>States Attorneys Office</td>\n      <td>05/22/2017 12:00:00 AM</td>\n      <td>68562.0</td>\n      <td>61693.59</td>\n    </tr>\n  </tbody>\n</table>\n</div>"
     },
     "execution_count": 10,
     "metadata": {},
     "output_type": "execute_result"
    }
   ],
   "source": [
    "data['jobtitle'] = data['jobtitle'].str.strip()\n",
    "data['deptid'] = data['deptid'].str[:3]\n",
    "data['descr'] = data['descr'].str.replace('(\\s+[( ]$|\\s+\\(\\d{3}\\)$|\\s+\\(\\d{1}$)', '', regex=True)\n",
    "data.head()\n"
   ]
  },
  {
   "cell_type": "code",
   "execution_count": 11,
   "metadata": {},
   "outputs": [
    {
     "data": {
      "text/plain": "                    name  jobtitle deptid  descr                 hire_dt  \\\n0         Aaron,Kareem D       952    A50     11  08/27/2018 12:00:00 AM   \n1       Aaron,Patricia G       353    A03     53  10/24/1979 12:00:00 AM   \n2          Abadir,Adam O       234    A02      5  12/12/2016 12:00:00 AM   \n3  Abaku,Aigbolosimuan O       717    A99     56  04/17/2018 12:00:00 AM   \n4          Abbeduto,Mack        56    A29     65  05/22/2017 12:00:00 AM   \n\n   annual_rt     gross  \n0    32470.0  25743.94  \n1    60200.0  57806.13  \n2    64823.0  64774.11  \n3    53640.0  59361.55  \n4    68562.0  61693.59  ",
      "text/html": "<div>\n<style scoped>\n    .dataframe tbody tr th:only-of-type {\n        vertical-align: middle;\n    }\n\n    .dataframe tbody tr th {\n        vertical-align: top;\n    }\n\n    .dataframe thead th {\n        text-align: right;\n    }\n</style>\n<table border=\"1\" class=\"dataframe\">\n  <thead>\n    <tr style=\"text-align: right;\">\n      <th></th>\n      <th>name</th>\n      <th>jobtitle</th>\n      <th>deptid</th>\n      <th>descr</th>\n      <th>hire_dt</th>\n      <th>annual_rt</th>\n      <th>gross</th>\n    </tr>\n  </thead>\n  <tbody>\n    <tr>\n      <th>0</th>\n      <td>Aaron,Kareem D</td>\n      <td>952</td>\n      <td>A50</td>\n      <td>11</td>\n      <td>08/27/2018 12:00:00 AM</td>\n      <td>32470.0</td>\n      <td>25743.94</td>\n    </tr>\n    <tr>\n      <th>1</th>\n      <td>Aaron,Patricia G</td>\n      <td>353</td>\n      <td>A03</td>\n      <td>53</td>\n      <td>10/24/1979 12:00:00 AM</td>\n      <td>60200.0</td>\n      <td>57806.13</td>\n    </tr>\n    <tr>\n      <th>2</th>\n      <td>Abadir,Adam O</td>\n      <td>234</td>\n      <td>A02</td>\n      <td>5</td>\n      <td>12/12/2016 12:00:00 AM</td>\n      <td>64823.0</td>\n      <td>64774.11</td>\n    </tr>\n    <tr>\n      <th>3</th>\n      <td>Abaku,Aigbolosimuan O</td>\n      <td>717</td>\n      <td>A99</td>\n      <td>56</td>\n      <td>04/17/2018 12:00:00 AM</td>\n      <td>53640.0</td>\n      <td>59361.55</td>\n    </tr>\n    <tr>\n      <th>4</th>\n      <td>Abbeduto,Mack</td>\n      <td>56</td>\n      <td>A29</td>\n      <td>65</td>\n      <td>05/22/2017 12:00:00 AM</td>\n      <td>68562.0</td>\n      <td>61693.59</td>\n    </tr>\n  </tbody>\n</table>\n</div>"
     },
     "execution_count": 11,
     "metadata": {},
     "output_type": "execute_result"
    }
   ],
   "source": [
    "le_jt = LabelEncoder()\n",
    "le_d = LabelEncoder()\n",
    "\n",
    "le_jobtitle = le_jt.fit_transform(data['jobtitle'])\n",
    "le_department = le_d.fit_transform(data['descr'])\n",
    "\n",
    "pickle.dump(le_jt, open( 'le_jobtitle.pickle', \"wb\" ) )\n",
    "pickle.dump(le_d, open( 'le_department.pickle', \"wb\" ) )\n",
    "\n",
    "data['jobtitle'] = le_jobtitle\n",
    "data['descr'] = le_department\n",
    "data.head()"
   ]
  },
  {
   "cell_type": "code",
   "execution_count": 12,
   "metadata": {},
   "outputs": [],
   "source": [
    "convert_point = datetime(2020, 1, 1)\n",
    "data['hire_dt'] = pd.to_datetime(data['hire_dt'])\n",
    "work_experience = convert_point - data['hire_dt']\n",
    "data['work_exp'] = work_experience.dt.days"
   ]
  },
  {
   "cell_type": "code",
   "execution_count": 13,
   "metadata": {},
   "outputs": [],
   "source": [
    "X = data[['jobtitle', 'descr', 'annual_rt', 'work_exp']]\n",
    "y = data.loc[:, 'gross']\n",
    "X_train, X_test, y_train, y_test = train_test_split(X, y, test_size=0.20, random_state=42)\n",
    "model = xg.XGBRegressor(objective ='reg:squarederror', n_estimators = 10).fit(X_train, y_train)\n",
    "pickle.dump(model, open(\"salary-predict.pickle\", \"wb\"))"
   ]
  },
  {
   "cell_type": "markdown",
   "source": [
    "##### Проведём тестирование\n",
    "##### Let`s make some tests"
   ],
   "metadata": {
    "collapsed": false,
    "pycharm": {
     "name": "#%% md\n"
    }
   }
  },
  {
   "cell_type": "code",
   "execution_count": 14,
   "outputs": [
    {
     "name": "stdout",
     "output_type": "stream",
     "text": [
      "997\n",
      "11\n",
      "[[997, 11, 95747.0, 9858]]\n",
      "[101473.69]\n"
     ]
    }
   ],
   "source": [
    "model = pickle.load(open(\"salary-predict.pickle\", \"rb\"))\n",
    "le_jt = pickle.load(open( 'le_jobtitle.pickle', \"rb\" ))\n",
    "le_d = pickle.load(open( 'le_department.pickle', \"rb\" ))\n",
    "\n",
    "le_jobtitle_feature = le_jt.transform(['Watershed Manager'])\n",
    "le_department_feature = le_d.transform(['DPW-Water & Waste Water'])\n",
    "\n",
    "\n",
    "annual_rt = 95747.0\n",
    "work_exp = 9858\n",
    "print(le_jobtitle_feature[0])\n",
    "print(le_department_feature[0])\n",
    "print([[le_jobtitle_feature[0], le_department_feature[0], annual_rt, work_exp]])\n",
    "final_data = pd.DataFrame(\n",
    "    data={\n",
    "        'jobtitle':le_jobtitle_feature[0],\n",
    "        'descr':le_department_feature[0],\n",
    "        'annual_rt':annual_rt,\n",
    "        'work_exp':work_exp\n",
    "    },\n",
    "    index=[0]\n",
    ")\n",
    "\n",
    "result = model.predict(final_data)  # input must be 2D array\n",
    "print(result)\n"
   ],
   "metadata": {
    "collapsed": false,
    "pycharm": {
     "name": "#%%\n"
    }
   }
  }
 ]
}